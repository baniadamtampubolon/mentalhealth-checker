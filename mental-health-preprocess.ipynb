{
 "cells": [
  {
   "cell_type": "code",
   "execution_count": 2,
   "id": "368eadd7",
   "metadata": {},
   "outputs": [],
   "source": [
    "# Memuat pustaka\n",
    "import pandas as pd\n",
    "from sklearn.model_selection import train_test_split\n",
    "from sklearn.preprocessing import LabelEncoder\n",
    "import tensorflow as tf\n",
    "from tensorflow.keras.models import Sequential\n",
    "from tensorflow.keras.layers import Dense, Dropout\n",
    "from sklearn.metrics import classification_report\n",
    "import requests"
   ]
  },
  {
   "cell_type": "code",
   "execution_count": 3,
   "id": "39202643",
   "metadata": {},
   "outputs": [
    {
     "name": "stdout",
     "output_type": "stream",
     "text": [
      "   age  feeling.nervous  panic  breathing.rapidly  sweating  \\\n",
      "0   23                1      0                  1         0   \n",
      "1   14                1      0                  1         0   \n",
      "2   25                0      0                  0         0   \n",
      "3   29                1      0                  0         0   \n",
      "4   32                1      1                  1         1   \n",
      "\n",
      "   trouble.in.concentration  trouble.sleeping  trouble.with.work  \\\n",
      "0                         0                 1                  0   \n",
      "1                         0                 1                  0   \n",
      "2                         0                 0                  0   \n",
      "3                         1                 1                  0   \n",
      "4                         1                 1                  1   \n",
      "\n",
      "   hopelessness  anger  ...  nightmares  avoids.people.or.activities  \\\n",
      "0             1      0  ...           0                            0   \n",
      "1             0      1  ...           1                            1   \n",
      "2             0      0  ...           0                            0   \n",
      "3             0      0  ...           0                            0   \n",
      "4             0      0  ...           0                            1   \n",
      "\n",
      "   feeling.negative  trouble.concentrating  blamming.yourself  hallucinations  \\\n",
      "0                 1                      0                  0               0   \n",
      "1                 0                      0                  0               0   \n",
      "2                 0                      0                  0               0   \n",
      "3                 0                      1                  1               0   \n",
      "4                 0                      0                  0               0   \n",
      "\n",
      "   repetitive.behaviour  seasonally  increased.energy    Disorder  \n",
      "0                     0           0                 0         MDD  \n",
      "1                     1           0                 0         ASD  \n",
      "2                     0           0                 0  Loneliness  \n",
      "3                     0           0                 1     bipolar  \n",
      "4                     0           0                 0     anxiety  \n",
      "\n",
      "[5 rows x 29 columns]\n"
     ]
    }
   ],
   "source": [
    "data = pd.read_csv('dataset/cleaned_mental_data.csv')\n",
    "\n",
    "print(data.head())"
   ]
  },
  {
   "cell_type": "code",
   "execution_count": 5,
   "id": "992b52e2",
   "metadata": {},
   "outputs": [
    {
     "name": "stdout",
     "output_type": "stream",
     "text": [
      "['MDD' 'ASD' 'Loneliness' 'bipolar' 'anxiety' 'PTSD' 'sleeping disorder'\n",
      " 'psychotic depression' 'eating disorder' 'ADHD' 'PDD' 'OCD']\n",
      "Disorder\n",
      "ASD                     89\n",
      "anxiety                 67\n",
      "MDD                     65\n",
      "eating disorder         65\n",
      "ADHD                    65\n",
      "PDD                     60\n",
      "PTSD                    46\n",
      "Loneliness              45\n",
      "bipolar                 43\n",
      "sleeping disorder       34\n",
      "OCD                     31\n",
      "psychotic depression    27\n",
      "Name: count, dtype: int64\n"
     ]
    }
   ],
   "source": [
    "# show and count unique values in 'Disorder' column     \n",
    "print(data['Disorder'].unique())\n",
    "print(data['Disorder'].value_counts())    "
   ]
  },
  {
   "cell_type": "code",
   "execution_count": 6,
   "id": "352200a1",
   "metadata": {},
   "outputs": [
    {
     "name": "stdout",
     "output_type": "stream",
     "text": [
      "   age  feeling.nervous  panic  breathing.rapidly  sweating  \\\n",
      "0   23                1      0                  1         0   \n",
      "1   14                1      0                  1         0   \n",
      "2   25                0      0                  0         0   \n",
      "3   29                1      0                  0         0   \n",
      "4   32                1      1                  1         1   \n",
      "\n",
      "   trouble.in.concentration  trouble.sleeping  trouble.with.work  \\\n",
      "0                         0                 1                  0   \n",
      "1                         0                 1                  0   \n",
      "2                         0                 0                  0   \n",
      "3                         1                 1                  0   \n",
      "4                         1                 1                  1   \n",
      "\n",
      "   hopelessness  anger  ...  nightmares  avoids.people.or.activities  \\\n",
      "0             1      0  ...           0                            0   \n",
      "1             0      1  ...           1                            1   \n",
      "2             0      0  ...           0                            0   \n",
      "3             0      0  ...           0                            0   \n",
      "4             0      0  ...           0                            1   \n",
      "\n",
      "   feeling.negative  trouble.concentrating  blamming.yourself  hallucinations  \\\n",
      "0                 1                      0                  0               0   \n",
      "1                 0                      0                  0               0   \n",
      "2                 0                      0                  0               0   \n",
      "3                 0                      1                  1               0   \n",
      "4                 0                      0                  0               0   \n",
      "\n",
      "   repetitive.behaviour  seasonally  increased.energy  Disorder  \n",
      "0                     0           0                 0         3  \n",
      "1                     1           0                 0         1  \n",
      "2                     0           0                 0         2  \n",
      "3                     0           0                 1         8  \n",
      "4                     0           0                 0         7  \n",
      "\n",
      "[5 rows x 29 columns]\n"
     ]
    }
   ],
   "source": [
    "# encoding label in 'Disorder' column and save the new data\n",
    "label_encoder = LabelEncoder()\n",
    "data['Disorder'] = label_encoder.fit_transform(data['Disorder'])\n",
    "data.to_csv('dataset/cleaned_mental_data_encoded.csv', index=False)\n",
    "\n",
    "print(data.head())"
   ]
  },
  {
   "cell_type": "code",
   "execution_count": 7,
   "id": "11ac3422",
   "metadata": {},
   "outputs": [
    {
     "name": "stdout",
     "output_type": "stream",
     "text": [
      "[ 3  1  2  8  7  6 11 10  9  0  5  4]\n",
      "Disorder\n",
      "1     89\n",
      "7     67\n",
      "3     65\n",
      "9     65\n",
      "0     65\n",
      "5     60\n",
      "6     46\n",
      "2     45\n",
      "8     43\n",
      "11    34\n",
      "4     31\n",
      "10    27\n",
      "Name: count, dtype: int64\n"
     ]
    }
   ],
   "source": [
    "print(data['Disorder'].unique())\n",
    "print(data['Disorder'].value_counts())    "
   ]
  },
  {
   "cell_type": "code",
   "execution_count": 3,
   "id": "882fb782",
   "metadata": {},
   "outputs": [
    {
     "name": "stdout",
     "output_type": "stream",
     "text": [
      "splitting data into train, val, and test sets completed.\n"
     ]
    }
   ],
   "source": [
    "\n",
    "data = pd.read_csv('dataset/cleaned_mental_data_encoded.csv')\n",
    "\n",
    "# Memisahkan fitur dan target\n",
    "X = data.drop(columns=['Disorder'], axis=1)\n",
    "y = data['Disorder']\n",
    "\n",
    "X_train, X_temp, y_train, y_temp = train_test_split(X, y, test_size=0.3, random_state=42) # 70% train, 30% temp\n",
    "X_val, X_test, y_val, y_test = train_test_split(X_temp, y_temp, test_size=0.5, random_state=42) # Split temp into 15% val and 15% test\n",
    "\n",
    "# save the split data\n",
    "train_data = pd.concat([X_train, y_train], axis=1)\n",
    "train_data.to_csv('dataset/train_data.csv', index=False)\n",
    "\n",
    "val_data = pd.concat([X_val, y_val], axis=1)\n",
    "val_data.to_csv('dataset/val_data.csv', index=False)\n",
    "\n",
    "test_data = pd.concat([X_test, y_test], axis=1)\n",
    "test_data.to_csv('dataset/test_data.csv', index=False)\n",
    "\n",
    "print(\"splitting data into train, val, and test sets completed.\")\n",
    "\n"
   ]
  }
 ],
 "metadata": {
  "kernelspec": {
   "display_name": "Python 3",
   "language": "python",
   "name": "python3"
  },
  "language_info": {
   "codemirror_mode": {
    "name": "ipython",
    "version": 3
   },
   "file_extension": ".py",
   "mimetype": "text/x-python",
   "name": "python",
   "nbconvert_exporter": "python",
   "pygments_lexer": "ipython3",
   "version": "3.12.2"
  }
 },
 "nbformat": 4,
 "nbformat_minor": 5
}
