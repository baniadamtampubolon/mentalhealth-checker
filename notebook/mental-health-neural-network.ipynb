{
 "cells": [
  {
   "cell_type": "code",
   "execution_count": 15,
   "metadata": {
    "collapsed": true,
    "executionInfo": {
     "elapsed": 4791,
     "status": "ok",
     "timestamp": 1718785419243,
     "user": {
      "displayName": "Bani Adam Tampubolon M119D4KY2306",
      "userId": "04834823580144612375"
     },
     "user_tz": -420
    },
    "id": "xSkLBVKxxE4f"
   },
   "outputs": [],
   "source": [
    "# Memuat pustaka\n",
    "import pandas as pd\n",
    "from sklearn.model_selection import train_test_split\n",
    "from sklearn.preprocessing import LabelEncoder\n",
    "import tensorflow as tf\n",
    "from tensorflow.keras.models import Sequential\n",
    "from tensorflow.keras.layers import Dense, Dropout\n",
    "from sklearn.metrics import classification_report\n",
    "import requests"
   ]
  },
  {
   "cell_type": "code",
   "execution_count": 16,
   "metadata": {
    "colab": {
     "base_uri": "https://localhost:8080/",
     "height": 255
    },
    "executionInfo": {
     "elapsed": 14,
     "status": "ok",
     "timestamp": 1718785419244,
     "user": {
      "displayName": "Bani Adam Tampubolon M119D4KY2306",
      "userId": "04834823580144612375"
     },
     "user_tz": -420
    },
    "id": "EwrL-_ZOxzjQ",
    "outputId": "0546cdf9-0bda-481f-99db-d60fcc3a1337"
   },
   "outputs": [
    {
     "name": "stdout",
     "output_type": "stream",
     "text": [
      "   age  feeling.nervous  panic  breathing.rapidly  sweating  \\\n",
      "0   23                1      0                  1         0   \n",
      "1   14                1      0                  1         0   \n",
      "2   25                0      0                  0         0   \n",
      "3   29                1      0                  0         0   \n",
      "4   32                1      1                  1         1   \n",
      "\n",
      "   trouble.in.concentration  trouble.sleeping  trouble.with.work  \\\n",
      "0                         0                 1                  0   \n",
      "1                         0                 1                  0   \n",
      "2                         0                 0                  0   \n",
      "3                         1                 1                  0   \n",
      "4                         1                 1                  1   \n",
      "\n",
      "   hopelessness  anger  ...  nightmares  avoids.people.or.activities  \\\n",
      "0             1      0  ...           0                            0   \n",
      "1             0      1  ...           1                            1   \n",
      "2             0      0  ...           0                            0   \n",
      "3             0      0  ...           0                            0   \n",
      "4             0      0  ...           0                            1   \n",
      "\n",
      "   feeling.negative  trouble.concentrating  blamming.yourself  hallucinations  \\\n",
      "0                 1                      0                  0               0   \n",
      "1                 0                      0                  0               0   \n",
      "2                 0                      0                  0               0   \n",
      "3                 0                      1                  1               0   \n",
      "4                 0                      0                  0               0   \n",
      "\n",
      "   repetitive.behaviour  seasonally  increased.energy    Disorder  \n",
      "0                     0           0                 0         MDD  \n",
      "1                     1           0                 0         ASD  \n",
      "2                     0           0                 0  Loneliness  \n",
      "3                     0           0                 1     bipolar  \n",
      "4                     0           0                 0     anxiety  \n",
      "\n",
      "[5 rows x 29 columns]\n"
     ]
    }
   ],
   "source": [
    "# import dataset ini dataset\\cleaned_mental_data.csv\n",
    "data = pd.read_csv('dataset/cleaned_mental_data.csv')\n",
    "\n",
    "print(df.head())"
   ]
  },
  {
   "cell_type": "code",
   "execution_count": 17,
   "metadata": {},
   "outputs": [
    {
     "name": "stdout",
     "output_type": "stream",
     "text": [
      "['MDD' 'ASD' 'Loneliness' 'bipolar' 'anxiety' 'PTSD' 'sleeping disorder'\n",
      " 'psychotic depression' 'eating disorder' 'ADHD' 'PDD' 'OCD']\n"
     ]
    }
   ],
   "source": [
    "# show unique values in 'disorder' column\n",
    "print(data['Disorder'].unique())    "
   ]
  },
  {
   "cell_type": "code",
   "execution_count": 18,
   "metadata": {},
   "outputs": [],
   "source": [
    "# do label encoding in 'Disorder' column\n",
    "label_encoder = LabelEncoder()\n",
    "data['Disorder'] = label_encoder.fit_transform(data['Disorder'])    "
   ]
  },
  {
   "cell_type": "code",
   "execution_count": null,
   "metadata": {},
   "outputs": [],
   "source": []
  },
  {
   "cell_type": "code",
   "execution_count": 19,
   "metadata": {
    "executionInfo": {
     "elapsed": 11,
     "status": "ok",
     "timestamp": 1718785419245,
     "user": {
      "displayName": "Bani Adam Tampubolon M119D4KY2306",
      "userId": "04834823580144612375"
     },
     "user_tz": -420
    },
    "id": "ZK8LnSipx9U5"
   },
   "outputs": [],
   "source": [
    "# Memisahkan fitur dan target\n",
    "X = data.drop(columns=['Disorder'])\n",
    "y = data['Disorder']"
   ]
  },
  {
   "cell_type": "code",
   "execution_count": 20,
   "metadata": {
    "executionInfo": {
     "elapsed": 11,
     "status": "ok",
     "timestamp": 1718785419245,
     "user": {
      "displayName": "Bani Adam Tampubolon M119D4KY2306",
      "userId": "04834823580144612375"
     },
     "user_tz": -420
    },
    "id": "X_qITg9oyAzj"
   },
   "outputs": [],
   "source": [
    "# Membagi data menjadi data latih dan data uji\n",
    "X_train, X_test, y_train, y_test = train_test_split(X, y, test_size=0.2, random_state=42)"
   ]
  },
  {
   "cell_type": "code",
   "execution_count": 21,
   "metadata": {
    "executionInfo": {
     "elapsed": 11,
     "status": "ok",
     "timestamp": 1718785419246,
     "user": {
      "displayName": "Bani Adam Tampubolon M119D4KY2306",
      "userId": "04834823580144612375"
     },
     "user_tz": -420
    },
    "id": "yEQZOn_OyD5a"
   },
   "outputs": [],
   "source": [
    "# Mengkodekan label\n",
    "label_encoder = LabelEncoder()\n",
    "y_train_encoded = label_encoder.fit_transform(y_train)\n",
    "y_test_encoded = label_encoder.transform(y_test)"
   ]
  },
  {
   "cell_type": "code",
   "execution_count": 22,
   "metadata": {
    "executionInfo": {
     "elapsed": 11,
     "status": "ok",
     "timestamp": 1718785419246,
     "user": {
      "displayName": "Bani Adam Tampubolon M119D4KY2306",
      "userId": "04834823580144612375"
     },
     "user_tz": -420
    },
    "id": "Bjvv689GyG39"
   },
   "outputs": [],
   "source": [
    "# Membuat model Sequential\n",
    "model = Sequential()"
   ]
  },
  {
   "cell_type": "code",
   "execution_count": 23,
   "metadata": {
    "executionInfo": {
     "elapsed": 10,
     "status": "ok",
     "timestamp": 1718785419246,
     "user": {
      "displayName": "Bani Adam Tampubolon M119D4KY2306",
      "userId": "04834823580144612375"
     },
     "user_tz": -420
    },
    "id": "ALLudzPhyIJV"
   },
   "outputs": [
    {
     "name": "stderr",
     "output_type": "stream",
     "text": [
      "c:\\Users\\bania\\AppData\\Local\\Programs\\Python\\Python312\\Lib\\site-packages\\keras\\src\\layers\\core\\dense.py:87: UserWarning: Do not pass an `input_shape`/`input_dim` argument to a layer. When using Sequential models, prefer using an `Input(shape)` object as the first layer in the model instead.\n",
      "  super().__init__(activity_regularizer=activity_regularizer, **kwargs)\n"
     ]
    }
   ],
   "source": [
    "model = Sequential()\n",
    "# Menambahkan layer input\n",
    "model.add(Dense(128, activation='relu', input_shape=(X_train.shape[1],)))\n",
    "model.add(Dropout(0.5))                                                 \n",
    "# Menambahkan layer\n",
    "model.add(Dense(64, activation='relu', input_shape=(X_train.shape[1],)))\n",
    "model.add(Dropout(0.5))\n",
    "model.add(Dense(32, activation='relu'))\n",
    "model.add(Dense(len(label_encoder.classes_), activation='softmax'))"
   ]
  },
  {
   "cell_type": "code",
   "execution_count": 24,
   "metadata": {
    "executionInfo": {
     "elapsed": 11,
     "status": "ok",
     "timestamp": 1718785419247,
     "user": {
      "displayName": "Bani Adam Tampubolon M119D4KY2306",
      "userId": "04834823580144612375"
     },
     "user_tz": -420
    },
    "id": "LAggDksgyIF0"
   },
   "outputs": [],
   "source": [
    "# Kompilasi model\n",
    "model.compile(optimizer='adam', loss='sparse_categorical_crossentropy', metrics=['accuracy'])"
   ]
  },
  {
   "cell_type": "code",
   "execution_count": 25,
   "metadata": {
    "executionInfo": {
     "elapsed": 10586,
     "status": "ok",
     "timestamp": 1718785429823,
     "user": {
      "displayName": "Bani Adam Tampubolon M119D4KY2306",
      "userId": "04834823580144612375"
     },
     "user_tz": -420
    },
    "id": "0XpyhvgJyID9"
   },
   "outputs": [],
   "source": [
    "# Melatih model\n",
    "history = model.fit(X_train, y_train_encoded, epochs=50, batch_size=32, validation_split=0.2, verbose=0)"
   ]
  },
  {
   "cell_type": "code",
   "execution_count": 27,
   "metadata": {
    "colab": {
     "base_uri": "https://localhost:8080/"
    },
    "executionInfo": {
     "elapsed": 26,
     "status": "ok",
     "timestamp": 1718785429824,
     "user": {
      "displayName": "Bani Adam Tampubolon M119D4KY2306",
      "userId": "04834823580144612375"
     },
     "user_tz": -420
    },
    "id": "5liCJUVDyH7t",
    "outputId": "c33828cd-221e-41e1-9ccf-5fc3d9780d72"
   },
   "outputs": [
    {
     "name": "stdout",
     "output_type": "stream",
     "text": [
      "Test Accuracy: 0.9296875\n"
     ]
    }
   ],
   "source": [
    "# Mengevaluasi model pada data uji\n",
    "# Evaluasi model\n",
    "# akusasi_model = model.evaluate(X_test, y_test_encoded, verbose=0)\n",
    "\n",
    "\n",
    "loss, accuracy = model.evaluate(X_test, y_test_encoded, verbose=0)\n",
    "print(f\"Test Accuracy: {accuracy}\")"
   ]
  },
  {
   "cell_type": "code",
   "execution_count": 28,
   "metadata": {},
   "outputs": [
    {
     "name": "stdout",
     "output_type": "stream",
     "text": [
      "\u001b[1m4/4\u001b[0m \u001b[32m━━━━━━━━━━━━━━━━━━━━\u001b[0m\u001b[37m\u001b[0m \u001b[1m0s\u001b[0m 13ms/step\n"
     ]
    },
    {
     "data": {
      "image/png": "[encoded data removed]",
      "text/plain": [
       "<Figure size 1000x700 with 2 Axes>"
      ]
     },
     "metadata": {},
     "output_type": "display_data"
    }
   ],
   "source": [
    "# buat confusion matrix\n",
    "from sklearn.metrics import confusion_matrix\n",
    "import seaborn as sns\n",
    "import matplotlib.pyplot as plt \n",
    "cm = confusion_matrix(y_test_encoded, model.predict(X_test).argmax(axis=1))\n",
    "plt.figure(figsize=(10, 7))\n",
    "sns.heatmap(cm, annot=True, fmt='d', cmap='Blues', xticklabels=label_encoder.classes_, yticklabels=label_encoder.classes_)\n",
    "plt.xlabel('Predicted')\n",
    "plt.ylabel('Actual')\n",
    "plt.title('Confusion Matrix')\n",
    "plt.show()  "
   ]
  },
  {
   "cell_type": "code",
   "execution_count": 29,
   "metadata": {
    "colab": {
     "base_uri": "https://localhost:8080/"
    },
    "executionInfo": {
     "elapsed": 3604,
     "status": "ok",
     "timestamp": 1718785433404,
     "user": {
      "displayName": "Bani Adam Tampubolon M119D4KY2306",
      "userId": "04834823580144612375"
     },
     "user_tz": -420
    },
    "id": "nrWJuT6VyHtG",
    "outputId": "b2c04ddf-5d3b-4fb8-ac09-c2897602a2ac"
   },
   "outputs": [
    {
     "name": "stdout",
     "output_type": "stream",
     "text": [
      "\u001b[1m4/4\u001b[0m \u001b[32m━━━━━━━━━━━━━━━━━━━━\u001b[0m\u001b[37m\u001b[0m \u001b[1m0s\u001b[0m 10ms/step\n"
     ]
    }
   ],
   "source": [
    "# Membuat prediksi\n",
    "y_pred_encoded = model.predict(X_test).argmax(axis=1)"
   ]
  },
  {
   "cell_type": "code",
   "execution_count": 30,
   "metadata": {
    "colab": {
     "base_uri": "https://localhost:8080/"
    },
    "executionInfo": {
     "elapsed": 30,
     "status": "ok",
     "timestamp": 1718785433406,
     "user": {
      "displayName": "Bani Adam Tampubolon M119D4KY2306",
      "userId": "04834823580144612375"
     },
     "user_tz": -420
    },
    "id": "tmnldo0EyWDM",
    "outputId": "4318d10b-cba3-4970-9d21-44bcfd707dd1"
   },
   "outputs": [
    {
     "name": "stderr",
     "output_type": "stream",
     "text": [
      "WARNING:absl:You are saving your model as an HDF5 file via `model.save()` or `keras.saving.save_model(model)`. This file format is considered legacy. We recommend using instead the native Keras format, e.g. `model.save('my_model.keras')` or `keras.saving.save_model(model, 'my_model.keras')`. \n"
     ]
    }
   ],
   "source": [
    "# Menyimpan model ke file\n",
    "model.save('model/mental_health_model-2.h5')\n"
   ]
  },
  {
   "cell_type": "code",
   "execution_count": 31,
   "metadata": {
    "executionInfo": {
     "elapsed": 28,
     "status": "ok",
     "timestamp": 1718785433406,
     "user": {
      "displayName": "Bani Adam Tampubolon M119D4KY2306",
      "userId": "04834823580144612375"
     },
     "user_tz": -420
    },
    "id": "lf0a3MP8yWA9"
   },
   "outputs": [
    {
     "name": "stderr",
     "output_type": "stream",
     "text": [
      "WARNING:absl:Compiled the loaded model, but the compiled metrics have yet to be built. `model.compile_metrics` will be empty until you train or evaluate the model.\n"
     ]
    }
   ],
   "source": [
    "# Memuat model yang telah disimpan\n",
    "from tensorflow.keras.models import load_model\n",
    "\n",
    "loaded_model = load_model('model/mental_health_model-2.h5')\n"
   ]
  },
  {
   "cell_type": "code",
   "execution_count": 32,
   "metadata": {
    "colab": {
     "base_uri": "https://localhost:8080/"
    },
    "executionInfo": {
     "elapsed": 1004,
     "status": "ok",
     "timestamp": 1718787580132,
     "user": {
      "displayName": "Bani Adam Tampubolon M119D4KY2306",
      "userId": "04834823580144612375"
     },
     "user_tz": -420
    },
    "id": "GLx6H7AhyV--",
    "outputId": "8e50cdc4-9e38-462b-dfcb-d3dc06496a7a"
   },
   "outputs": [
    {
     "name": "stdout",
     "output_type": "stream",
     "text": [
      "[23, 0, 0, 0, 0, 1, 1, 1, 0, 1, 1, 0, 0, 1, 1, 0, 0, 1, 0, 1, 1, 0, 1, 0, 0, 0, 1, 1]\n",
      "\n",
      "\n",
      "\u001b[1m1/1\u001b[0m \u001b[32m━━━━━━━━━━━━━━━━━━━━\u001b[0m\u001b[37m\u001b[0m \u001b[1m0s\u001b[0m 102ms/step\n",
      "\u001b[1m1/1\u001b[0m \u001b[32m━━━━━━━━━━━━━━━━━━━━\u001b[0m\u001b[37m\u001b[0m \u001b[1m0s\u001b[0m 56ms/step\n",
      "\n",
      "\n",
      "Predicted Disorder: [[1.4647515e-01 5.2891052e-01 4.5115236e-02 3.0671395e-03 5.9097824e-03\n",
      "  2.9133772e-04 3.4587469e-02 3.0688457e-02 1.0770527e-01 1.2336316e-03\n",
      "  6.6855654e-02 2.9160252e-02]]\n"
     ]
    }
   ],
   "source": [
    "# Contoh input pengguna\n",
    "import random\n",
    "import numpy as np\n",
    "\n",
    "# input_data = [29,0,0,0,0,0,1,1,0,0,0,0,0,1,1,0,0,0,1,0,0,0,1,0,0,0,0,0]  # Ganti dengan input Anda\n",
    "\n",
    "# Menghasilkan nilai acak antara 0 atau 1 sebanyak 27 kali\n",
    "\n",
    "# random_values = [random.randint(0, 1) for _ in range(27)] # random value untuk gejala\n",
    "# input_data = [23] + random_values # input untuk umur\n",
    "# print(input_data)\n",
    "# print(\"\\n\")\n",
    "\n",
    "input_data = [\n",
    "    23,   # age\n",
    "    0,    # feeling.nervous\n",
    "    0,    # panic\n",
    "    0,    # breathing.rapidly\n",
    "    0,    # sweating\n",
    "    1,    # trouble.in.concentration\n",
    "    1,    # having.trouble.in.sleeping\n",
    "    1,    # having.trouble.with.work\n",
    "    0,    # hopelessness\n",
    "    1,    # anger\n",
    "    1,    # over.react\n",
    "    0,    # change.in.eating\n",
    "    0,    # suicidal.thought\n",
    "    1,    # feeling.tired\n",
    "    1,    # close.friend\n",
    "    0,    # social.media.addiction\n",
    "    0,    # weight.gain\n",
    "    1,    # introvert\n",
    "    0,    # popping.up.stressful.memory\n",
    "    1,    # having.nightmares\n",
    "    1,    # avoids.people.or.activities\n",
    "    0,    # feeling.negative\n",
    "    1,    # trouble.concentrating\n",
    "    0,    # blamming.yourself\n",
    "    0,    # hallucinations\n",
    "    0,    # repetitive.behaviour\n",
    "    1,    # seasonally\n",
    "    1] # increased.energy\n",
    "\n",
    "print(input_data)\n",
    "print(\"\\n\")\n",
    "\n",
    "# Konversi input_data menjadi array numpy 2D dan ubah bentuknya agar sesuai dengan kebutuhan model\n",
    "input_data = np.array([input_data])  # Mengonversi menjadi array numpy 2D dengan satu baris\n",
    "\n",
    "# Lakukan prediksi\n",
    "prediction = model.predict(input_data)\n",
    "\n",
    "# Membuat prediksi\n",
    "prediction = model.predict(input_data)\n",
    "print(\"\\n\")\n",
    "print(f\"Predicted Disorder: {prediction}\")"
   ]
  },
  {
   "cell_type": "code",
   "execution_count": 33,
   "metadata": {
    "colab": {
     "base_uri": "https://localhost:8080/",
     "height": 921
    },
    "executionInfo": {
     "elapsed": 855,
     "status": "ok",
     "timestamp": 1718787584935,
     "user": {
      "displayName": "Bani Adam Tampubolon M119D4KY2306",
      "userId": "04834823580144612375"
     },
     "user_tz": -420
    },
    "id": "n74AILZryV8m",
    "outputId": "dc47f99a-17df-4201-cb67-ef0f58c93426"
   },
   "outputs": [
    {
     "name": "stdout",
     "output_type": "stream",
     "text": [
      "Prediction: ASD\n",
      "\n",
      "\n",
      "ADHD: 14.65%\n",
      "ASD: 52.89%\n",
      "Loneliness: 4.51%\n",
      "MDD: 0.31%\n",
      "OCD: 0.59%\n",
      "PDD: 0.03%\n",
      "PTSD: 3.46%\n",
      "Anxiety: 3.07%\n",
      "Bipolar: 10.77%\n",
      "Eating Disorder: 0.12%\n",
      "Psychotic Depression: 6.69%\n",
      "Sleeping Disorder: 2.92%\n",
      "\n",
      "\n"
     ]
    },
    {
     "data": {
      "image/png": "[encoded data removed]",
      "text/plain": [
       "<Figure size 1000x600 with 1 Axes>"
      ]
     },
     "metadata": {},
     "output_type": "display_data"
    }
   ],
   "source": [
    "# Labels\n",
    "labels = {\n",
    "    0: \"ADHD\",\n",
    "    1: \"ASD\",\n",
    "    2: \"Loneliness\",\n",
    "    3: \"MDD\",\n",
    "    4: \"OCD\",\n",
    "    5: \"PDD\",\n",
    "    6: \"PTSD\",\n",
    "    7: \"Anxiety\",\n",
    "    8: \"Bipolar\",\n",
    "    9: \"Eating Disorder\",\n",
    "    10: \"Psychotic Depression\",\n",
    "    11: \"Sleeping Disorder\",\n",
    "    12: \"Inconclusive\"\n",
    "}\n",
    "\n",
    "# Mengambil label dari prediksi\n",
    "predicted_label = labels[np.argmax(prediction)]\n",
    "\n",
    "print(f\"Prediction: {predicted_label}\")\n",
    "print(\"\\n\")\n",
    "\n",
    "# Mendapatkan jumlah prediksi untuk setiap penyakit\n",
    "predicted_percentages = (prediction[0] / prediction[0].sum()) * 100\n",
    "\n",
    "# Menampilkan persentase prediksi untuk setiap penyakit\n",
    "for i, percentage in enumerate(predicted_percentages):\n",
    "    disorder_name = labels[i]\n",
    "    print(f\"{disorder_name}: {percentage:.2f}%\")\n",
    "\n",
    "print(\"\\n\")\n",
    "\n",
    "# PLOT CHART\n",
    "\n",
    "import matplotlib.pyplot as plt\n",
    "\n",
    "# Membuat grafik batang menggunakan Matplotlib\n",
    "disorder_names = [labels[i] for i in range(len(predicted_percentages))]\n",
    "percentages = [predicted_percentages[i] for i in range(len(predicted_percentages))]\n",
    "\n",
    "plt.figure(figsize=(10, 6))\n",
    "plt.bar(disorder_names, percentages, color='skyblue')\n",
    "plt.xlabel('Disorders')\n",
    "plt.ylabel('Prediction Percentage (%)')\n",
    "plt.title('Prediction Percentage for Each Disorder')\n",
    "plt.xticks(rotation=45, ha='right')\n",
    "plt.ylim(0, 100)\n",
    "\n",
    "# Menambahkan persentase di atas setiap batang\n",
    "for i, percentage in enumerate(percentages):\n",
    "    plt.text(i, percentage + 1, f'{percentage:.2f}%', ha='center')\n",
    "\n",
    "plt.tight_layout()\n",
    "plt.show()\n"
   ]
  },
  {
   "cell_type": "code",
   "execution_count": null,
   "metadata": {
    "executionInfo": {
     "elapsed": 13,
     "status": "ok",
     "timestamp": 1718785433407,
     "user": {
      "displayName": "Bani Adam Tampubolon M119D4KY2306",
      "userId": "04834823580144612375"
     },
     "user_tz": -420
    },
    "id": "Ae7de4GJkUaW"
   },
   "outputs": [],
   "source": []
  },
  {
   "cell_type": "code",
   "execution_count": null,
   "metadata": {
    "executionInfo": {
     "elapsed": 14,
     "status": "ok",
     "timestamp": 1718785433408,
     "user": {
      "displayName": "Bani Adam Tampubolon M119D4KY2306",
      "userId": "04834823580144612375"
     },
     "user_tz": -420
    },
    "id": "580MZYVwLMuM"
   },
   "outputs": [],
   "source": []
  }
 ],
 "metadata": {
  "colab": {
   "provenance": []
  },
  "kernelspec": {
   "display_name": "Python 3",
   "name": "python3"
  },
  "language_info": {
   "codemirror_mode": {
    "name": "ipython",
    "version": 3
   },
   "file_extension": ".py",
   "mimetype": "text/x-python",
   "name": "python",
   "nbconvert_exporter": "python",
   "pygments_lexer": "ipython3",
   "version": "3.12.2"
  }
 },
 "nbformat": 4,
 "nbformat_minor": 0
}
